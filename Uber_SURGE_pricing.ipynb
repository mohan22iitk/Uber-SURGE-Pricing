{
  "nbformat": 4,
  "nbformat_minor": 0,
  "metadata": {
    "colab": {
      "provenance": [],
      "authorship_tag": "ABX9TyN0BjaisFG4TNODfeiY0iws",
      "include_colab_link": true
    },
    "kernelspec": {
      "name": "python3",
      "display_name": "Python 3"
    },
    "language_info": {
      "name": "python"
    }
  },
  "cells": [
    {
      "cell_type": "markdown",
      "metadata": {
        "id": "view-in-github",
        "colab_type": "text"
      },
      "source": [
        "<a href=\"https://colab.research.google.com/github/mohan22iitk/Uber-SURGE-Pricing/blob/main/Uber_SURGE_pricing.ipynb\" target=\"_parent\"><img src=\"https://colab.research.google.com/assets/colab-badge.svg\" alt=\"Open In Colab\"/></a>"
      ]
    },
    {
      "cell_type": "code",
      "source": [
        "import numpy as np\n",
        "import pandas as pd\n",
        "from sklearn.ensemble import RandomForestClassifier\n",
        "from sklearn.model_selection import train_test_split\n",
        "from sklearn.preprocessing import LabelEncoder\n",
        "from sklearn.metrics import precision_score, recall_score, accuracy_score\n",
        "\n",
        "# Read the CSV files\n",
        "cab_df = pd.read_csv(\"/content/cab_rides.csv\", delimiter=',', on_bad_lines='skip')\n",
        "weather_df = pd.read_csv(\"/content/weather.csv\", delimiter=',')\n",
        "\n",
        "# Proceed with your analysis\n",
        "print(cab_df.head())\n",
        "print(weather_df.head())\n"
      ],
      "metadata": {
        "colab": {
          "base_uri": "https://localhost:8080/"
        },
        "id": "mUOTW84K5jqk",
        "outputId": "d808573e-6fc7-483f-dcc2-fd36ae527202"
      },
      "execution_count": 3,
      "outputs": [
        {
          "output_type": "stream",
          "name": "stdout",
          "text": [
            "   distance cab_type     time_stamp    destination            source  price  \\\n",
            "0      0.44     Lyft  1544952607890  North Station  Haymarket Square    5.0   \n",
            "1      0.44     Lyft  1543284023677  North Station  Haymarket Square   11.0   \n",
            "2      0.44     Lyft  1543366822198  North Station  Haymarket Square    7.0   \n",
            "3      0.44     Lyft  1543553582749  North Station  Haymarket Square   26.0   \n",
            "4      0.44     Lyft  1543463360223  North Station  Haymarket Square    9.0   \n",
            "\n",
            "   surge_multiplier                                    id    product_id  \\\n",
            "0               1.0  424553bb-7174-41ea-aeb4-fe06d4f4b9d7     lyft_line   \n",
            "1               1.0  4bd23055-6827-41c6-b23b-3c491f24e74d  lyft_premier   \n",
            "2               1.0  981a3613-77af-4620-a42a-0c0866077d1e          lyft   \n",
            "3               1.0  c2d88af2-d278-4bfd-a8d0-29ca77cc5512   lyft_luxsuv   \n",
            "4               1.0  e0126e1f-8ca9-4f2e-82b3-50505a09db9a     lyft_plus   \n",
            "\n",
            "           name  \n",
            "0        Shared  \n",
            "1           Lux  \n",
            "2          Lyft  \n",
            "3  Lux Black XL  \n",
            "4       Lyft XL  \n",
            "    temp            location  clouds  pressure    rain  time_stamp  humidity  \\\n",
            "0  42.42            Back Bay     1.0   1012.14  0.1228  1545003901      0.77   \n",
            "1  42.43         Beacon Hill     1.0   1012.15  0.1846  1545003901      0.76   \n",
            "2  42.50   Boston University     1.0   1012.15  0.1089  1545003901      0.76   \n",
            "3  42.11              Fenway     1.0   1012.13  0.0969  1545003901      0.77   \n",
            "4  43.13  Financial District     1.0   1012.14  0.1786  1545003901      0.75   \n",
            "\n",
            "    wind  \n",
            "0  11.25  \n",
            "1  11.32  \n",
            "2  11.07  \n",
            "3  11.09  \n",
            "4  11.49  \n"
          ]
        }
      ]
    },
    {
      "cell_type": "code",
      "source": [
        "# Convert timestamps to datetime format\n",
        "cab_df['date_time'] = pd.to_datetime(cab_df['time_stamp'] / 1000, unit='s')\n",
        "weather_df['date_time'] = pd.to_datetime(weather_df['time_stamp'], unit='s')\n",
        "\n",
        "# Check the first few rows of cab_df\n",
        "print(cab_df.head())\n",
        "\n",
        "# Ensure there is a common column for merging, such as 'merge_date'\n",
        "cab_df['merge_date'] = cab_df['date_time'].dt.floor('H')\n",
        "weather_df['merge_date'] = weather_df['date_time'].dt.floor('H')\n",
        "\n",
        "# Merge the dataframes on 'merge_date'\n",
        "final_dataframe = cab_df.merge(weather_df, on='merge_date', suffixes=('', '_w'))\n",
        "\n",
        "# Drop rows with null values\n",
        "final_dataframe = final_dataframe.dropna(axis=0)\n",
        "\n",
        "# Create 'day' and 'hour' columns\n",
        "final_dataframe['day'] = final_dataframe['date_time'].dt.dayofweek\n",
        "final_dataframe['hour'] = final_dataframe['date_time'].dt.hour\n",
        "\n",
        "# Check the final dataframe\n",
        "print(final_dataframe.head())\n"
      ],
      "metadata": {
        "id": "LQHDBF5q8guY",
        "colab": {
          "base_uri": "https://localhost:8080/"
        },
        "outputId": "cc91716a-99ae-415e-ec31-416c9018ad78"
      },
      "execution_count": 4,
      "outputs": [
        {
          "output_type": "stream",
          "name": "stdout",
          "text": [
            "   distance cab_type     time_stamp    destination            source  price  \\\n",
            "0      0.44     Lyft  1544952607890  North Station  Haymarket Square    5.0   \n",
            "1      0.44     Lyft  1543284023677  North Station  Haymarket Square   11.0   \n",
            "2      0.44     Lyft  1543366822198  North Station  Haymarket Square    7.0   \n",
            "3      0.44     Lyft  1543553582749  North Station  Haymarket Square   26.0   \n",
            "4      0.44     Lyft  1543463360223  North Station  Haymarket Square    9.0   \n",
            "\n",
            "   surge_multiplier                                    id    product_id  \\\n",
            "0               1.0  424553bb-7174-41ea-aeb4-fe06d4f4b9d7     lyft_line   \n",
            "1               1.0  4bd23055-6827-41c6-b23b-3c491f24e74d  lyft_premier   \n",
            "2               1.0  981a3613-77af-4620-a42a-0c0866077d1e          lyft   \n",
            "3               1.0  c2d88af2-d278-4bfd-a8d0-29ca77cc5512   lyft_luxsuv   \n",
            "4               1.0  e0126e1f-8ca9-4f2e-82b3-50505a09db9a     lyft_plus   \n",
            "\n",
            "           name                     date_time  \n",
            "0        Shared 2018-12-16 09:30:07.890000128  \n",
            "1           Lux 2018-11-27 02:00:23.676999936  \n",
            "2          Lyft 2018-11-28 01:00:22.197999872  \n",
            "3  Lux Black XL 2018-11-30 04:53:02.749000192  \n",
            "4       Lyft XL 2018-11-29 03:49:20.223000064  \n",
            "      distance cab_type     time_stamp    destination            source  \\\n",
            "1176      0.44     Lyft  1543284023677  North Station  Haymarket Square   \n",
            "1177      0.44     Lyft  1543284023677  North Station  Haymarket Square   \n",
            "1178      0.44     Lyft  1543284023677  North Station  Haymarket Square   \n",
            "1179      0.44     Lyft  1543284023677  North Station  Haymarket Square   \n",
            "1180      0.44     Lyft  1543284023677  North Station  Haymarket Square   \n",
            "\n",
            "      price  surge_multiplier                                    id  \\\n",
            "1176   11.0               1.0  4bd23055-6827-41c6-b23b-3c491f24e74d   \n",
            "1177   11.0               1.0  4bd23055-6827-41c6-b23b-3c491f24e74d   \n",
            "1178   11.0               1.0  4bd23055-6827-41c6-b23b-3c491f24e74d   \n",
            "1179   11.0               1.0  4bd23055-6827-41c6-b23b-3c491f24e74d   \n",
            "1180   11.0               1.0  4bd23055-6827-41c6-b23b-3c491f24e74d   \n",
            "\n",
            "        product_id name  ...            location clouds  pressure    rain  \\\n",
            "1176  lyft_premier  Lux  ...    Theatre District   0.99   1002.57  0.1354   \n",
            "1177  lyft_premier  Lux  ...         Beacon Hill   1.00   1003.15  0.1547   \n",
            "1178  lyft_premier  Lux  ...   Boston University   1.00   1003.11  0.1210   \n",
            "1179  lyft_premier  Lux  ...  Financial District   1.00   1003.15  0.1620   \n",
            "1180  lyft_premier  Lux  ...    Haymarket Square   1.00   1003.17  0.1123   \n",
            "\n",
            "      time_stamp_w  humidity   wind         date_time_w  day  hour  \n",
            "1176    1543286721      0.90  11.53 2018-11-27 02:45:21    1     2  \n",
            "1177    1543284920      0.90  13.65 2018-11-27 02:15:20    1     2  \n",
            "1178    1543284920      0.90  13.53 2018-11-27 02:15:20    1     2  \n",
            "1179    1543284920      0.89  13.73 2018-11-27 02:15:20    1     2  \n",
            "1180    1543284920      0.90  13.69 2018-11-27 02:15:20    1     2  \n",
            "\n",
            "[5 rows x 23 columns]\n"
          ]
        },
        {
          "output_type": "stream",
          "name": "stderr",
          "text": [
            "<ipython-input-4-b352f7819de9>:19: SettingWithCopyWarning: \n",
            "A value is trying to be set on a copy of a slice from a DataFrame.\n",
            "Try using .loc[row_indexer,col_indexer] = value instead\n",
            "\n",
            "See the caveats in the documentation: https://pandas.pydata.org/pandas-docs/stable/user_guide/indexing.html#returning-a-view-versus-a-copy\n",
            "  final_dataframe['day'] = final_dataframe['date_time'].dt.dayofweek\n",
            "<ipython-input-4-b352f7819de9>:20: SettingWithCopyWarning: \n",
            "A value is trying to be set on a copy of a slice from a DataFrame.\n",
            "Try using .loc[row_indexer,col_indexer] = value instead\n",
            "\n",
            "See the caveats in the documentation: https://pandas.pydata.org/pandas-docs/stable/user_guide/indexing.html#returning-a-view-versus-a-copy\n",
            "  final_dataframe['hour'] = final_dataframe['date_time'].dt.hour\n"
          ]
        }
      ]
    },
    {
      "cell_type": "code",
      "source": [
        "#make a coloumn of merge date containing date merged with the location so that we can join the two\n",
        "cab_df['merge_date'] = cab_df.source.astype(str) +\" - \"+ cab_df.date_time.dt.date.astype(\"str\") +\" - \"+ cab_df.date_time.dt.hour.astype(\"str\")\n",
        "weather_df['merge_date'] = weather_df.location.astype(str) +\" - \"+ weather_df.date_time.dt.date.astype(\"str\") +\" - \"+ weather_df.date_time.dt.hour.astype(\"str\")\n",
        "\n",
        "# change the index to merge_date column so joining the two datasets will not generate any error.\n",
        "\n",
        "weather_df.index = weather_df['merge_date']\n",
        "\n",
        "# we ignored surge value of more than 3 because the samples are very less for surge_multiplier›3 surge_dataframe = final_dataframe[final_dataframe.surge_multiplier ‹ 3]\n",
        "surge_dataframe = final_dataframe[final_dataframe.surge_multiplier < 3]"
      ],
      "metadata": {
        "id": "ReeekEk4Cnhf"
      },
      "execution_count": 5,
      "outputs": []
    },
    {
      "cell_type": "code",
      "source": [
        "# feature selection-→› we are selecting the most relevant features from the dataset\n",
        "\n",
        "x = surge_dataframe[['distance', 'day', 'hour', 'temp' , 'clouds', 'pressure', 'humidity', 'wind', 'rain']]\n",
        "\n",
        "y = surge_dataframe['surge_multiplier']"
      ],
      "metadata": {
        "id": "XvbUqslGFb_h"
      },
      "execution_count": 6,
      "outputs": []
    },
    {
      "cell_type": "code",
      "source": [
        "le = LabelEncoder()\n",
        "\n",
        "#ignoring multiplier of 3 as there are only 2 values in our dataset\n",
        "le.fit([1,1.25,1.5,1.75,2.,2.25,2.5])\n",
        "y = le.transform(y)\n",
        "\n",
        "feature_list = list(x.columns)\n",
        "\n",
        "x_train,x_test,y_train,y_test = train_test_split(x,y,test_size=0.3 ,random_state=42)"
      ],
      "metadata": {
        "id": "Tf04maBSGR_V"
      },
      "execution_count": 7,
      "outputs": []
    },
    {
      "cell_type": "code",
      "source": [
        "unique, counts = np. unique(y_train, return_counts=True)\n",
        "print(dict(zip(unique, counts)))"
      ],
      "metadata": {
        "id": "skaU8Rw8G-L_",
        "colab": {
          "base_uri": "https://localhost:8080/"
        },
        "outputId": "45ca535f-6236-418f-84b5-77df3b35bc3b"
      },
      "execution_count": 8,
      "outputs": [
        {
          "output_type": "stream",
          "name": "stdout",
          "text": [
            "{0: 93710, 1: 1600, 2: 796, 3: 416, 4: 463, 6: 8}\n"
          ]
        }
      ]
    },
    {
      "cell_type": "code",
      "source": [
        "from imblearn.over_sampling import SMOTE\n",
        "sm = SMOTE( random_state=42)\n",
        "\n",
        "train_features,train_labels = sm.fit_resample(x_train,y_train)"
      ],
      "metadata": {
        "id": "ZTG6DJoBHF9X"
      },
      "execution_count": 9,
      "outputs": []
    },
    {
      "cell_type": "code",
      "source": [
        "model = RandomForestClassifier(n_jobs=-1, random_state = 42, class_weight = \"balanced\")\n",
        "\n",
        "model.fit(x_train,y_train)\n",
        "y_pred = model.predict(x_test)"
      ],
      "metadata": {
        "id": "8eZpMqoBL2QX"
      },
      "execution_count": 10,
      "outputs": []
    },
    {
      "cell_type": "code",
      "source": [
        "# Get numerical feature importances\n",
        "importances = list(model. feature_importances_)\n",
        "\n",
        "# List of tuples with variable and importance\n",
        "feature_importances = [(feature, round(importance, 2)) for feature,importance in zip(feature_list,importances)]\n",
        "\n",
        "# Sort the feature importances by most important first\n",
        "feature_importances = sorted(feature_importances, key = lambda x: x[1], reverse = True)\n",
        "\n",
        "# Print out the feature and importances\n",
        "[print('Variable: {:20} Importance: {}'.format(*pair)) for pair in feature_importances]"
      ],
      "metadata": {
        "id": "erGkPY0idp5B",
        "colab": {
          "base_uri": "https://localhost:8080/"
        },
        "outputId": "6a215eb7-03df-4a0b-8846-bf1478dcb963"
      },
      "execution_count": 11,
      "outputs": [
        {
          "output_type": "stream",
          "name": "stdout",
          "text": [
            "Variable: distance             Importance: 0.52\n",
            "Variable: wind                 Importance: 0.14\n",
            "Variable: pressure             Importance: 0.1\n",
            "Variable: hour                 Importance: 0.06\n",
            "Variable: temp                 Importance: 0.05\n",
            "Variable: rain                 Importance: 0.04\n",
            "Variable: clouds               Importance: 0.03\n",
            "Variable: humidity             Importance: 0.03\n",
            "Variable: day                  Importance: 0.02\n"
          ]
        },
        {
          "output_type": "execute_result",
          "data": {
            "text/plain": [
              "[None, None, None, None, None, None, None, None, None]"
            ]
          },
          "metadata": {},
          "execution_count": 11
        }
      ]
    },
    {
      "cell_type": "code",
      "source": [
        "from sklearn.metrics import accuracy_score\n",
        "from sklearn.metrics import f1_score\n",
        "f1_score = f1_score(y_test,y_pred, average='weighted')\n",
        "accuracy = accuracy_score(y_test, y_pred)\n",
        "\n",
        "\n",
        "print(\"Accuracy Score:\", accuracy)\n",
        "print(\"F1 Score:\", f1_score)"
      ],
      "metadata": {
        "id": "ZT3g_zK6eeNi",
        "colab": {
          "base_uri": "https://localhost:8080/"
        },
        "outputId": "3fe4f5fa-5569-4678-ba60-b9b44c9e67b4"
      },
      "execution_count": 12,
      "outputs": [
        {
          "output_type": "stream",
          "name": "stdout",
          "text": [
            "Accuracy Score: 0.958839519834492\n",
            "F1 Score: 0.955130502965452\n"
          ]
        }
      ]
    }
  ]
}